{
 "cells": [
  {
   "cell_type": "markdown",
   "id": "7486da82",
   "metadata": {},
   "source": [
    "### Compare Values\n",
    "#### Solutions to review exercises"
   ]
  },
  {
   "cell_type": "markdown",
   "id": "74427ff0",
   "metadata": {},
   "source": [
    "- **Exercise 1**\n",
    "- Test whether these expressions are True or False"
   ]
  },
  {
   "cell_type": "code",
   "execution_count": 1,
   "id": "5233803b",
   "metadata": {},
   "outputs": [
    {
     "name": "stdout",
     "output_type": "stream",
     "text": [
      "True\n",
      "False\n",
      "True\n",
      "True\n",
      "True\n",
      "False\n"
     ]
    }
   ],
   "source": [
    "print(1 <= 1)\n",
    "print(1 != 1)\n",
    "print(1 != 2)\n",
    "print(\"good\" != \"bad\")\n",
    "print(\"good\" != \"Good\")\n",
    "print(123 == \"123\")"
   ]
  },
  {
   "cell_type": "markdown",
   "id": "b85022fd",
   "metadata": {},
   "source": [
    "- **Exercise 2**\n",
    "-  Fill in the blank so that each of the following expressions are True\n"
   ]
  },
  {
   "cell_type": "code",
   "execution_count": 2,
   "id": "af1bbd94",
   "metadata": {},
   "outputs": [
    {
     "name": "stdout",
     "output_type": "stream",
     "text": [
      "iii)  True\n"
     ]
    }
   ],
   "source": [
    "# 3 __ 4\n",
    "# Any of the following:\n",
    "#i)    3 < 4\n",
    "#ii)   3 <= 4\n",
    "#iii)  3 != 4\n",
    "print(\"iii) \",3 != 4)\n"
   ]
  },
  {
   "cell_type": "code",
   "execution_count": 3,
   "id": "7196aa8b",
   "metadata": {},
   "outputs": [
    {
     "name": "stdout",
     "output_type": "stream",
     "text": [
      "iii)  True\n"
     ]
    }
   ],
   "source": [
    "# 10 __ 5\n",
    "# Any of the following:\n",
    "#i)    10 > 5\n",
    "#ii)   10 >= 5\n",
    "#iii)  10 != 5\n",
    "print(\"iii) \",10 != 5)\n"
   ]
  },
  {
   "cell_type": "code",
   "execution_count": 4,
   "id": "d9bdddb7",
   "metadata": {},
   "outputs": [
    {
     "name": "stdout",
     "output_type": "stream",
     "text": [
      "iii)  True\n"
     ]
    }
   ],
   "source": [
    "# \"jack\" __ \"jill\"\n",
    "# Any of the following:\n",
    "#i)    \"jack\" < \"jill\"\n",
    "#ii)   \"jack\" <= \"jill\"\n",
    "#iii)  \"jack\" != \"jill\"\n",
    "print(\"iii) \",\"jack\" != \"jill\")\n"
   ]
  },
  {
   "cell_type": "code",
   "execution_count": 5,
   "id": "45005467",
   "metadata": {},
   "outputs": [
    {
     "name": "stdout",
     "output_type": "stream",
     "text": [
      "use not equal operator :  True\n"
     ]
    }
   ],
   "source": [
    "# 42 __ \"42\"\n",
    "print(\"use not equal operator : \",42 != \"42\")"
   ]
  },
  {
   "cell_type": "markdown",
   "id": "ef5de069",
   "metadata": {},
   "source": [
    "- **Exercise 3**\n",
    "- Write a Python program to count the number of even and odd numbers from given range from user"
   ]
  },
  {
   "cell_type": "code",
   "execution_count": 6,
   "id": "83d145b6",
   "metadata": {},
   "outputs": [
    {
     "name": "stdout",
     "output_type": "stream",
     "text": [
      "10\n",
      "Number of even numbers : 5\n",
      "Number of odd numbers : 5\n"
     ]
    }
   ],
   "source": [
    "number = []\n",
    "count_odd = 0\n",
    "count_even = 0\n",
    "times = int(input())\n",
    "for i in range(times):\n",
    "    number.append(i)\n",
    "\n",
    "    \n",
    "for x in number:\n",
    "        if not x % 2:\n",
    "            count_even+=1\n",
    "        else:\n",
    "            count_odd+=1   \n",
    "    \n",
    "\n",
    "print(\"Number of even numbers :\",count_even)\n",
    "print(\"Number of odd numbers :\",count_odd)"
   ]
  },
  {
   "cell_type": "markdown",
   "id": "03cf484e",
   "metadata": {},
   "source": [
    "- **Exercise 4**\n",
    "-  When Object Copy Is Equal but Not Identical\n"
   ]
  },
  {
   "cell_type": "code",
   "execution_count": 7,
   "id": "b0f40621",
   "metadata": {},
   "outputs": [
    {
     "name": "stdout",
     "output_type": "stream",
     "text": [
      "['Pritom', 'Saha', 'Hello World']\n",
      "['Pritom', 'Saha', 'Hello World']\n",
      "Equal :  True\n",
      "Is opreator :  False\n",
      "ID of a :  2879757711296\n",
      "ID of b :  2879757709376\n"
     ]
    }
   ],
   "source": [
    "\n",
    "a = [\"Pritom\", \"Saha\", \"Hello World\"]\n",
    "b = a.copy()\n",
    "print(a)\n",
    "print(b)\n",
    "print(\"Equal : \",a == b)\n",
    "print(\"Is opreator : \",a is b)\n",
    "print(\"ID of a : \",id(a))\n",
    "print(\"ID of b : \",id(b))"
   ]
  },
  {
   "cell_type": "code",
   "execution_count": null,
   "id": "3a640df2",
   "metadata": {},
   "outputs": [],
   "source": []
  }
 ],
 "metadata": {
  "kernelspec": {
   "display_name": "Python 3 (ipykernel)",
   "language": "python",
   "name": "python3"
  },
  "language_info": {
   "codemirror_mode": {
    "name": "ipython",
    "version": 3
   },
   "file_extension": ".py",
   "mimetype": "text/x-python",
   "name": "python",
   "nbconvert_exporter": "python",
   "pygments_lexer": "ipython3",
   "version": "3.9.13"
  }
 },
 "nbformat": 4,
 "nbformat_minor": 5
}
